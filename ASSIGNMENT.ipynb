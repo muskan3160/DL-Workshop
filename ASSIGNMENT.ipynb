{
  "nbformat": 4,
  "nbformat_minor": 0,
  "metadata": {
    "colab": {
      "name": "ASSIGNMENT",
      "provenance": [],
      "authorship_tag": "ABX9TyOW6oEaSp0pzOyPc9jrjXRG",
      "include_colab_link": true
    },
    "kernelspec": {
      "name": "python3",
      "display_name": "Python 3"
    }
  },
  "cells": [
    {
      "cell_type": "markdown",
      "metadata": {
        "id": "view-in-github",
        "colab_type": "text"
      },
      "source": [
        "<a href=\"https://colab.research.google.com/github/muskan3160/DL-Workshop/blob/master/ASSIGNMENT.ipynb\" target=\"_parent\"><img src=\"https://colab.research.google.com/assets/colab-badge.svg\" alt=\"Open In Colab\"/></a>"
      ]
    },
    {
      "cell_type": "code",
      "metadata": {
        "id": "mqR-_rw0PWKE",
        "colab_type": "code",
        "colab": {
          "base_uri": "https://localhost:8080/",
          "height": 52
        },
        "outputId": "7e2b4839-ae27-4514-9160-8b30a08c935e"
      },
      "source": [
        "#class and objects\n",
        "#1st example\n",
        "class Mobile:\n",
        "    def __init__(self, price, model):\n",
        "        self.price = price\n",
        "        self.model=model\n",
        "\n",
        "m1 = Mobile(\"vivo\", \"y71\")\n",
        "\n",
        "print(m1.price)\n",
        "print(m1.model)"
      ],
      "execution_count": 6,
      "outputs": [
        {
          "output_type": "stream",
          "text": [
            "vivo\n",
            "y71\n"
          ],
          "name": "stdout"
        }
      ]
    },
    {
      "cell_type": "code",
      "metadata": {
        "id": "ES8KKdK6P2-A",
        "colab_type": "code",
        "colab": {
          "base_uri": "https://localhost:8080/",
          "height": 35
        },
        "outputId": "5e725f58-c301-4dd8-95b0-da0cd6c03221"
      },
      "source": [
        "#2nd example\n",
        "class Laptop:\n",
        "    def __init__(self,name):\n",
        "        self.name=name\n",
        "    def model(self):\n",
        "        print('Model is ', self.name)\n",
        "\n",
        "l=Laptop('Dell')\n",
        "l.model()\n"
      ],
      "execution_count": 7,
      "outputs": [
        {
          "output_type": "stream",
          "text": [
            "Model is  Dell\n"
          ],
          "name": "stdout"
        }
      ]
    },
    {
      "cell_type": "code",
      "metadata": {
        "id": "S80bDpv9QbXe",
        "colab_type": "code",
        "colab": {
          "base_uri": "https://localhost:8080/",
          "height": 201
        },
        "outputId": "2f4d1112-aaf8-4f70-ac0a-7c8e1ba6236f"
      },
      "source": [
        "#error\n",
        "class Laptop:\n",
        "    def __init__(self,name):\n",
        "        self.name=name\n",
        "    def model(self):\n",
        "        print('Model is ', self.name)\n",
        "\n",
        "l=Laptop('Dell')\n",
        "l.Laptop()#AttributeError: 'Laptop' object has no attribute 'Laptop'\n"
      ],
      "execution_count": 8,
      "outputs": [
        {
          "output_type": "error",
          "ename": "AttributeError",
          "evalue": "ignored",
          "traceback": [
            "\u001b[0;31m---------------------------------------------------------------------------\u001b[0m",
            "\u001b[0;31mAttributeError\u001b[0m                            Traceback (most recent call last)",
            "\u001b[0;32m<ipython-input-8-a672653e48f6>\u001b[0m in \u001b[0;36m<module>\u001b[0;34m()\u001b[0m\n\u001b[1;32m      7\u001b[0m \u001b[0;34m\u001b[0m\u001b[0m\n\u001b[1;32m      8\u001b[0m \u001b[0ml\u001b[0m\u001b[0;34m=\u001b[0m\u001b[0mLaptop\u001b[0m\u001b[0;34m(\u001b[0m\u001b[0;34m'Dell'\u001b[0m\u001b[0;34m)\u001b[0m\u001b[0;34m\u001b[0m\u001b[0;34m\u001b[0m\u001b[0m\n\u001b[0;32m----> 9\u001b[0;31m \u001b[0ml\u001b[0m\u001b[0;34m.\u001b[0m\u001b[0mLaptop\u001b[0m\u001b[0;34m(\u001b[0m\u001b[0;34m)\u001b[0m\u001b[0;34m\u001b[0m\u001b[0;34m\u001b[0m\u001b[0m\n\u001b[0m",
            "\u001b[0;31mAttributeError\u001b[0m: 'Laptop' object has no attribute 'Laptop'"
          ]
        }
      ]
    },
    {
      "cell_type": "code",
      "metadata": {
        "id": "zZYBvF5DRCoR",
        "colab_type": "code",
        "colab": {
          "base_uri": "https://localhost:8080/",
          "height": 69
        },
        "outputId": "d78e0f6a-12ee-4755-cfd3-d5920f7c80be"
      },
      "source": [
        "#INHERITANCE 1st example\n",
        "#parent class\n",
        "class Mobile:\n",
        "    def __init__(self, price, model):\n",
        "        self.price = price\n",
        "        self.model=model\n",
        "#child class\n",
        "class vivo(Mobile):  #inherting all the properties of Mobile class\n",
        "    def __init__(self):\n",
        "        print('Mobile is vivo')\n",
        "    def whichmodel(self):\n",
        "        print(\"y71\")\n",
        "    def run(self):\n",
        "        print('works faster')\n",
        "            \n",
        "m=vivo()\n",
        "m.whichmodel()\n",
        "m.run()"
      ],
      "execution_count": 9,
      "outputs": [
        {
          "output_type": "stream",
          "text": [
            "Mobile is vivo\n",
            "y71\n",
            "works faster\n"
          ],
          "name": "stdout"
        }
      ]
    },
    {
      "cell_type": "code",
      "metadata": {
        "id": "5GiBBBjXTlj0",
        "colab_type": "code",
        "colab": {
          "base_uri": "https://localhost:8080/",
          "height": 69
        },
        "outputId": "5b2418d2-d3e2-4e06-e9e7-017efd93745b"
      },
      "source": [
        "#encapsulation\n",
        "#2nd example\n",
        "class Mobile:\n",
        "    def __init__(self):\n",
        "        self.__maxprice=900\n",
        "    def sell(self):\n",
        "        print('Selling Price:{}' .format(self.__maxprice))\n",
        "    def setmaxprice(self, price):\n",
        "        self.__maxprice=price\n",
        "c=Mobile()\n",
        "c.sell()\n",
        "\n",
        "#changing price\n",
        "c.__maxprice=1000\n",
        "c.sell()\n",
        "c.setmaxprice(1000)\n",
        "c.sell()"
      ],
      "execution_count": 17,
      "outputs": [
        {
          "output_type": "stream",
          "text": [
            "Selling Price:900\n",
            "Selling Price:900\n",
            "Selling Price:1000\n"
          ],
          "name": "stdout"
        }
      ]
    },
    {
      "cell_type": "code",
      "metadata": {
        "id": "WsnJa6uFT-0d",
        "colab_type": "code",
        "colab": {
          "base_uri": "https://localhost:8080/",
          "height": 235
        },
        "outputId": "6ac7ba9b-be06-421b-d32b-1703eff53fd6"
      },
      "source": [
        "#error\n",
        "class person():\n",
        "  def __init__(self,name):\n",
        "    self.name=name\n",
        "class student(person):\n",
        "  def __init__(self,name,age,marks):\n",
        "    self.name=name\n",
        "    self.age=age\n",
        "    self.marks=marks\n",
        "  def getage(self):\n",
        "    print(20)\n",
        "  def getmarks(self):\n",
        "    print(\"marks 20\")\n",
        "s=student()#__init__() missing 3 required positional arguments: 'name', 'age', and 'marks'\n",
        "s.getname()\n",
        "s.getage()\n",
        "s.getmarks()\n"
      ],
      "execution_count": 15,
      "outputs": [
        {
          "output_type": "error",
          "ename": "TypeError",
          "evalue": "ignored",
          "traceback": [
            "\u001b[0;31m---------------------------------------------------------------------------\u001b[0m",
            "\u001b[0;31mTypeError\u001b[0m                                 Traceback (most recent call last)",
            "\u001b[0;32m<ipython-input-15-d8182a5c2ebe>\u001b[0m in \u001b[0;36m<module>\u001b[0;34m()\u001b[0m\n\u001b[1;32m     11\u001b[0m   \u001b[0;32mdef\u001b[0m \u001b[0mgetmarks\u001b[0m\u001b[0;34m(\u001b[0m\u001b[0mself\u001b[0m\u001b[0;34m)\u001b[0m\u001b[0;34m:\u001b[0m\u001b[0;34m\u001b[0m\u001b[0;34m\u001b[0m\u001b[0m\n\u001b[1;32m     12\u001b[0m     \u001b[0mprint\u001b[0m\u001b[0;34m(\u001b[0m\u001b[0;34m\"marks 20\"\u001b[0m\u001b[0;34m)\u001b[0m\u001b[0;34m\u001b[0m\u001b[0;34m\u001b[0m\u001b[0m\n\u001b[0;32m---> 13\u001b[0;31m \u001b[0ms\u001b[0m\u001b[0;34m=\u001b[0m\u001b[0mstudent\u001b[0m\u001b[0;34m(\u001b[0m\u001b[0;34m)\u001b[0m\u001b[0;34m\u001b[0m\u001b[0;34m\u001b[0m\u001b[0m\n\u001b[0m\u001b[1;32m     14\u001b[0m \u001b[0ms\u001b[0m\u001b[0;34m.\u001b[0m\u001b[0mgetname\u001b[0m\u001b[0;34m(\u001b[0m\u001b[0;34m)\u001b[0m\u001b[0;34m\u001b[0m\u001b[0;34m\u001b[0m\u001b[0m\n\u001b[1;32m     15\u001b[0m \u001b[0ms\u001b[0m\u001b[0;34m.\u001b[0m\u001b[0mgetage\u001b[0m\u001b[0;34m(\u001b[0m\u001b[0;34m)\u001b[0m\u001b[0;34m\u001b[0m\u001b[0;34m\u001b[0m\u001b[0m\n",
            "\u001b[0;31mTypeError\u001b[0m: __init__() missing 3 required positional arguments: 'name', 'age', and 'marks'"
          ]
        }
      ]
    },
    {
      "cell_type": "code",
      "metadata": {
        "id": "FzAwA4BRgy55",
        "colab_type": "code",
        "colab": {
          "base_uri": "https://localhost:8080/",
          "height": 35
        },
        "outputId": "86c306b7-2948-4529-fdfc-6f8da53473c1"
      },
      "source": [
        "#Encapsulation\n",
        "#example\n",
        "class Base: \n",
        "    def __init__(self): \n",
        "        self.a = \"Muskan jaglan\"\n",
        "        self.__c = \"Muskan jaglan\"\n",
        "  \n",
        "# Creating a derived class \n",
        "class Derived(Base): \n",
        "    def __init__(self): \n",
        "          \n",
        "        # Calling constructor of \n",
        "        # Base class \n",
        "        Base.__init__(self)  \n",
        "        print(\"Calling private member of base class: \") \n",
        "        print(self.__a) \n",
        "# Driver code \n",
        "obj1 = Base() \n",
        "print(obj1.a) "
      ],
      "execution_count": 24,
      "outputs": [
        {
          "output_type": "stream",
          "text": [
            "Muskan jaglan\n"
          ],
          "name": "stdout"
        }
      ]
    },
    {
      "cell_type": "code",
      "metadata": {
        "id": "QNI-l6MphUFZ",
        "colab_type": "code",
        "colab": {
          "base_uri": "https://localhost:8080/",
          "height": 201
        },
        "outputId": "21a35e37-a484-4b76-e4cb-aea2f13aeea3"
      },
      "source": [
        "\n",
        "#Error\n",
        "class Base: \n",
        "    def __init__(self): \n",
        "        self.a = \"Muskan jaglan\"\n",
        "        self.__c = \"Muskan jaglan\"\n",
        "  \n",
        "# Creating a derived class \n",
        "class Derived(Base): \n",
        "    def __init__(self): \n",
        "          \n",
        "        # Calling constructor of \n",
        "        # Base class \n",
        "        Base.__init__(self)  \n",
        "        print(\"Calling private member of base class: \") \n",
        "        print(self.__a) \n",
        "# Driver code \n",
        "obj1 = Base() \n",
        "print(obj1.c) #'Base' object has no attribute 'c'"
      ],
      "execution_count": 27,
      "outputs": [
        {
          "output_type": "error",
          "ename": "AttributeError",
          "evalue": "ignored",
          "traceback": [
            "\u001b[0;31m---------------------------------------------------------------------------\u001b[0m",
            "\u001b[0;31mAttributeError\u001b[0m                            Traceback (most recent call last)",
            "\u001b[0;32m<ipython-input-27-0e582ba8b3db>\u001b[0m in \u001b[0;36m<module>\u001b[0;34m()\u001b[0m\n\u001b[1;32m     17\u001b[0m \u001b[0;31m# Driver code\u001b[0m\u001b[0;34m\u001b[0m\u001b[0;34m\u001b[0m\u001b[0;34m\u001b[0m\u001b[0m\n\u001b[1;32m     18\u001b[0m \u001b[0mobj1\u001b[0m \u001b[0;34m=\u001b[0m \u001b[0mBase\u001b[0m\u001b[0;34m(\u001b[0m\u001b[0;34m)\u001b[0m\u001b[0;34m\u001b[0m\u001b[0;34m\u001b[0m\u001b[0m\n\u001b[0;32m---> 19\u001b[0;31m \u001b[0mprint\u001b[0m\u001b[0;34m(\u001b[0m\u001b[0mobj1\u001b[0m\u001b[0;34m.\u001b[0m\u001b[0mc\u001b[0m\u001b[0;34m)\u001b[0m \u001b[0;31m#'Base' object has no attribute 'c'\u001b[0m\u001b[0;34m\u001b[0m\u001b[0;34m\u001b[0m\u001b[0m\n\u001b[0m",
            "\u001b[0;31mAttributeError\u001b[0m: 'Base' object has no attribute 'c'"
          ]
        }
      ]
    },
    {
      "cell_type": "code",
      "metadata": {
        "id": "aJ0WKaVwhicx",
        "colab_type": "code",
        "colab": {
          "base_uri": "https://localhost:8080/",
          "height": 35
        },
        "outputId": "d58452f2-48ea-4b03-ea39-cebcc742a7e6"
      },
      "source": [
        "#Abstraction\n",
        "#1st example \n",
        "from abc import ABC, abstractmethod \n",
        "  \n",
        "class Quadrilateral(ABC): \n",
        "  \n",
        "    # abstract method \n",
        "    def noofsides(self): \n",
        "        pass\n",
        "  \n",
        "class square(Quadrilateral): \n",
        "  \n",
        "    # overriding abstract method \n",
        "    def noofsides(self): \n",
        "        print(\"I have 4 sides\") \n",
        "# Driver code \n",
        "R = square() \n",
        "R.noofsides() "
      ],
      "execution_count": 29,
      "outputs": [
        {
          "output_type": "stream",
          "text": [
            "I have 4 sides\n"
          ],
          "name": "stdout"
        }
      ]
    },
    {
      "cell_type": "code",
      "metadata": {
        "id": "8QLM0mOpknI1",
        "colab_type": "code",
        "colab": {
          "base_uri": "https://localhost:8080/",
          "height": 35
        },
        "outputId": "d8e933c9-bfaf-4f00-a38a-848c095c4947"
      },
      "source": [
        "#2nd example\n",
        "from abc import ABC, abstractmethod \n",
        "class Animal(ABC): \n",
        "  \n",
        "    def move(self): \n",
        "        pass\n",
        "  \n",
        "class Human(Animal): \n",
        "  \n",
        "    def move(self): \n",
        "        print(\"I can walk and run\") \n",
        "R = Human() \n",
        "R.move() "
      ],
      "execution_count": 30,
      "outputs": [
        {
          "output_type": "stream",
          "text": [
            "I can walk and run\n"
          ],
          "name": "stdout"
        }
      ]
    },
    {
      "cell_type": "code",
      "metadata": {
        "id": "11YgI7V1k2Er",
        "colab_type": "code",
        "colab": {
          "base_uri": "https://localhost:8080/",
          "height": 201
        },
        "outputId": "ded3908a-a10a-4ff6-fde0-4bd5025fed1c"
      },
      "source": [
        "#Error\n",
        "from abc import ABC, abstractmethod \n",
        "class Animal(ABC): \n",
        "  \n",
        "    def move(self): \n",
        "        pass\n",
        "  \n",
        "class Human(Animal): \n",
        "  \n",
        "    def move(self): \n",
        "        print(\"I can walk and run\") \n",
        "R = Human() \n",
        "R.Animal() #AttributeError: 'Human' object has no attribute 'Animal'"
      ],
      "execution_count": 34,
      "outputs": [
        {
          "output_type": "error",
          "ename": "AttributeError",
          "evalue": "ignored",
          "traceback": [
            "\u001b[0;31m---------------------------------------------------------------------------\u001b[0m",
            "\u001b[0;31mAttributeError\u001b[0m                            Traceback (most recent call last)",
            "\u001b[0;32m<ipython-input-34-551517116826>\u001b[0m in \u001b[0;36m<module>\u001b[0;34m()\u001b[0m\n\u001b[1;32m     11\u001b[0m         \u001b[0mprint\u001b[0m\u001b[0;34m(\u001b[0m\u001b[0;34m\"I can walk and run\"\u001b[0m\u001b[0;34m)\u001b[0m\u001b[0;34m\u001b[0m\u001b[0;34m\u001b[0m\u001b[0m\n\u001b[1;32m     12\u001b[0m \u001b[0mR\u001b[0m \u001b[0;34m=\u001b[0m \u001b[0mHuman\u001b[0m\u001b[0;34m(\u001b[0m\u001b[0;34m)\u001b[0m\u001b[0;34m\u001b[0m\u001b[0;34m\u001b[0m\u001b[0m\n\u001b[0;32m---> 13\u001b[0;31m \u001b[0mR\u001b[0m\u001b[0;34m.\u001b[0m\u001b[0mAnimal\u001b[0m\u001b[0;34m(\u001b[0m\u001b[0;34m)\u001b[0m\u001b[0;34m\u001b[0m\u001b[0;34m\u001b[0m\u001b[0m\n\u001b[0m",
            "\u001b[0;31mAttributeError\u001b[0m: 'Human' object has no attribute 'Animal'"
          ]
        }
      ]
    }
  ]
}